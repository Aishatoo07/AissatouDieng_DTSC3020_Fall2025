{
  "nbformat": 4,
  "nbformat_minor": 0,
  "metadata": {
    "colab": {
      "provenance": [],
      "authorship_tag": "ABX9TyP27yMlZIAYMd176oJ6CBH7",
      "include_colab_link": true
    },
    "kernelspec": {
      "name": "python3",
      "display_name": "Python 3"
    },
    "language_info": {
      "name": "python"
    }
  },
  "cells": [
    {
      "cell_type": "markdown",
      "metadata": {
        "id": "view-in-github",
        "colab_type": "text"
      },
      "source": [
        "<a href=\"https://colab.research.google.com/github/Aishatoo07/AissatouDieng_DTSC3020_Fall2025/blob/main/Assignment_2.ipynb\" target=\"_parent\"><img src=\"https://colab.research.google.com/assets/colab-badge.svg\" alt=\"Open In Colab\"/></a>"
      ]
    },
    {
      "cell_type": "code",
      "execution_count": 2,
      "metadata": {
        "colab": {
          "base_uri": "https://localhost:8080/"
        },
        "id": "EH0ZbU9Do2E7",
        "outputId": "e8f1d1dc-a55b-4e14-ce28-3c54ed8638a4"
      },
      "outputs": [
        {
          "output_type": "stream",
          "name": "stdout",
          "text": [
            "['banana', 'orange', 'grape']\n",
            "banana\n",
            "orange\n",
            "grape\n"
          ]
        }
      ],
      "source": [
        "Fruits=['banana','orange', 'grape']\n",
        "print(Fruits)\n",
        "print(Fruits[0])\n",
        "print(Fruits[1])\n",
        "print(Fruits[2])"
      ]
    },
    {
      "cell_type": "code",
      "source": [
        "Names=['Amy','Abi','Mami','Jibril']\n",
        "Names[0]='Awa'\n",
        "print(Names)"
      ],
      "metadata": {
        "colab": {
          "base_uri": "https://localhost:8080/"
        },
        "id": "c0I16pXFqiMj",
        "outputId": "5dec2dbc-c2ab-4b66-fb83-17081c6fb66e"
      },
      "execution_count": 5,
      "outputs": [
        {
          "output_type": "stream",
          "name": "stdout",
          "text": [
            "['Awa', 'Abi', 'Mami', 'Jibril']\n"
          ]
        }
      ]
    },
    {
      "cell_type": "code",
      "source": [
        "Vehicles=['bike','car','plane','boat','train']\n",
        "Vehicles.append('scooter')\n",
        "print(Vehicles)"
      ],
      "metadata": {
        "colab": {
          "base_uri": "https://localhost:8080/"
        },
        "id": "JmjZBc38rZpB",
        "outputId": "88745b44-a690-497b-e0f8-771062699500"
      },
      "execution_count": 6,
      "outputs": [
        {
          "output_type": "stream",
          "name": "stdout",
          "text": [
            "['bike', 'car', 'plane', 'boat', 'train', 'scooter']\n"
          ]
        }
      ]
    },
    {
      "cell_type": "code",
      "source": [
        "Food=['apple','burger','lollipop','orange','icecream','pasta','olive']\n",
        "Food.remove('icecream')\n",
        "print(Food)"
      ],
      "metadata": {
        "colab": {
          "base_uri": "https://localhost:8080/"
        },
        "id": "XLxY28ntsgTX",
        "outputId": "853bcb02-e043-4e44-f4f3-2f1b7396f701"
      },
      "execution_count": 8,
      "outputs": [
        {
          "output_type": "stream",
          "name": "stdout",
          "text": [
            "['apple', 'burger', 'lollipop', 'orange', 'pasta', 'olive']\n"
          ]
        }
      ]
    },
    {
      "cell_type": "code",
      "source": [
        "Cities=['Dakar','New york','Dallas','Paris']\n",
        "Cities.sort()\n",
        "print(Cities)\n"
      ],
      "metadata": {
        "colab": {
          "base_uri": "https://localhost:8080/"
        },
        "id": "oQTSUS0LtN19",
        "outputId": "be1c31f2-db36-471f-99a5-7a688d6a3241"
      },
      "execution_count": 12,
      "outputs": [
        {
          "output_type": "stream",
          "name": "stdout",
          "text": [
            "['Dakar', 'Dallas', 'New york', 'Paris']\n"
          ]
        }
      ]
    },
    {
      "cell_type": "code",
      "source": [
        "Cities=['Dakar','New york','Dallas','Paris']\n",
        "Cities.sort(reverse=True)\n",
        "print(Cities)"
      ],
      "metadata": {
        "colab": {
          "base_uri": "https://localhost:8080/"
        },
        "id": "n-9OwrOfuRBu",
        "outputId": "849712f5-608a-46c5-8bb6-92a321ff52c7"
      },
      "execution_count": 13,
      "outputs": [
        {
          "output_type": "stream",
          "name": "stdout",
          "text": [
            "['Paris', 'New york', 'Dallas', 'Dakar']\n"
          ]
        }
      ]
    },
    {
      "cell_type": "code",
      "source": [
        "Animals=['lion','zebra','frog']\n",
        "for Animal in Animals:\n",
        "  print(Animal)"
      ],
      "metadata": {
        "colab": {
          "base_uri": "https://localhost:8080/"
        },
        "id": "mvHN7SlyueC4",
        "outputId": "cf012ba8-bbec-491d-df7b-0e7ee0b3f7f2"
      },
      "execution_count": 16,
      "outputs": [
        {
          "output_type": "stream",
          "name": "stdout",
          "text": [
            "lion\n",
            "zebra\n",
            "frog\n"
          ]
        }
      ]
    },
    {
      "cell_type": "code",
      "source": [
        "Numbers=[1,2,3,4,5]\n",
        "for Number in Numbers:\n",
        "  print(Number*2)"
      ],
      "metadata": {
        "colab": {
          "base_uri": "https://localhost:8080/"
        },
        "id": "7l4J2Cg8vB3Z",
        "outputId": "7efe73c5-bfe6-4225-8d5d-f4d7af67dfc6"
      },
      "execution_count": 19,
      "outputs": [
        {
          "output_type": "stream",
          "name": "stdout",
          "text": [
            "2\n",
            "4\n",
            "6\n",
            "8\n",
            "10\n"
          ]
        }
      ]
    },
    {
      "cell_type": "code",
      "source": [
        "Friends=['Arame','Abi','Layla','Fabi','Awa','Nunu']\n",
        "print(\"frist 3 friends \")\n",
        "for Friend in Friends[:3]:\n",
        "  print(Friend.title())\n",
        "\n",
        "print(\"Last 3 friends \")\n",
        "for Friend in Friends[-3:]:\n",
        "  print(Friend.title())"
      ],
      "metadata": {
        "colab": {
          "base_uri": "https://localhost:8080/"
        },
        "id": "JjZGppaSwtPr",
        "outputId": "368e80f5-e82a-43f2-e964-b0c27c5e66af"
      },
      "execution_count": 50,
      "outputs": [
        {
          "output_type": "stream",
          "name": "stdout",
          "text": [
            "frist 3 friends \n",
            "Arame\n",
            "Abi\n",
            "Layla\n",
            "Last 3 friends \n",
            "Fabi\n",
            "Awa\n",
            "Nunu\n"
          ]
        }
      ]
    },
    {
      "cell_type": "code",
      "source": [
        "numbers=list(range(1,11))\n",
        "print(numbers)"
      ],
      "metadata": {
        "colab": {
          "base_uri": "https://localhost:8080/"
        },
        "id": "CKj9QmTn1Ij3",
        "outputId": "cb493793-37f7-42f7-96c7-3744b38b8b5a"
      },
      "execution_count": 60,
      "outputs": [
        {
          "output_type": "stream",
          "name": "stdout",
          "text": [
            "[1, 2, 3, 4, 5, 6, 7, 8, 9, 10]\n"
          ]
        }
      ]
    },
    {
      "cell_type": "code",
      "source": [
        "squares=[]\n",
        "for value in range(1,11):\n",
        "  square=value**2\n",
        "  squares.append(square)\n",
        "print(squares)"
      ],
      "metadata": {
        "colab": {
          "base_uri": "https://localhost:8080/"
        },
        "id": "LxQjD9eO32vN",
        "outputId": "f0e8c24a-6c65-4d6e-f81d-a12f4e1bf1b9"
      },
      "execution_count": 58,
      "outputs": [
        {
          "output_type": "stream",
          "name": "stdout",
          "text": [
            "[1, 4, 9, 16, 25, 36, 49, 64, 81, 100]\n"
          ]
        }
      ]
    }
  ]
}