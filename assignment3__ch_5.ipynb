{
  "cells": [
    {
      "cell_type": "markdown",
      "metadata": {
        "id": "view-in-github",
        "colab_type": "text"
      },
      "source": [
        "<a href=\"https://colab.research.google.com/github/Aishatoo07/AissatouDieng_DTSC3020_Fall2025/blob/main/assignment3__ch_5.ipynb\" target=\"_parent\"><img src=\"https://colab.research.google.com/assets/colab-badge.svg\" alt=\"Open In Colab\"/></a>"
      ]
    },
    {
      "cell_type": "markdown",
      "metadata": {
        "id": "nevCG4Qs0b8R"
      },
      "source": [
        "# DTSC 3020 – Assignment 3\n",
        "\n",
        "This exercise focuses on **if statements and conditional logic** in Python and is designed to help students practice decision-making structures.\n",
        "\n",
        "**Total points:** 5  \n",
        "**Deadline:** Friday at midnight  \n",
        "**Submission:** Upload your Python file to your GitHub repository and submit **only your GitHub link**.\n",
        "\n",
        "### Expectations\n",
        "- Write complete answers and run all cells before submission.\n",
        "- Keep the notebook clean (no unnecessary code).\n",
        "\n"
      ],
      "id": "nevCG4Qs0b8R"
    },
    {
      "cell_type": "markdown",
      "metadata": {
        "id": "gfumj0DY0b8f"
      },
      "source": [
        "## Question 1 – Movie Ticket System\n",
        "Write a Python code that checks the price of a movie ticket.\n",
        "If the age is between 0 and 11 it is Child, if between 12 and 17 it is Teen, and if 18 or older it is Adult.\n",
        "Print the category and the ticket price (you choose the price).\n",
        "Run the program with age = 16."
      ],
      "id": "gfumj0DY0b8f"
    },
    {
      "cell_type": "code",
      "metadata": {
        "id": "67TGDT6w0b8k",
        "colab": {
          "base_uri": "https://localhost:8080/"
        },
        "outputId": "11031f74-cc33-41a9-bfaa-5bb5ac01ee4b"
      },
      "execution_count": null,
      "outputs": [
        {
          "output_type": "stream",
          "name": "stdout",
          "text": [
            "Category: Teen\n",
            "Ticket Price: $8.00\n"
          ]
        }
      ],
      "source": [
        "age = 16\n",
        "\n",
        "\n",
        "child_price = 5.00\n",
        "teen_price = 8.00\n",
        "adult_price = 12.00\n",
        "\n",
        "\n",
        "if 0 <= age <= 11:\n",
        "    category = \"Child\"\n",
        "    price = child_price\n",
        "elif 12 <= age <= 17:\n",
        "    category = \"Teen\"\n",
        "    price = teen_price\n",
        "elif age >= 18:\n",
        "    category = \"Adult\"\n",
        "    price = adult_price\n",
        "else:\n",
        "    category = \"Invalid\"\n",
        "    price = 0\n",
        "\n",
        "print(f\"Category: {category}\")\n",
        "print(f\"Ticket Price: ${price:.2f}\")"
      ],
      "id": "67TGDT6w0b8k"
    },
    {
      "cell_type": "markdown",
      "metadata": {
        "id": "_tUFNVKT0b8r"
      },
      "source": [
        "## Question 2 – Online Store Discount\n",
        "Write a Python code that applies a discount based on the shopping cart total.\n",
        "If the total is less than 50 dollars there is no discount, if the total is between 50 and 99 dollars there is a 10 percent discount, and if the total is 100 dollars or more there is a 20 percent discount.\n",
        "Print the original total, the discount, and the final price.\n",
        "Run the program with cart_total = 85."
      ],
      "id": "_tUFNVKT0b8r"
    },
    {
      "cell_type": "code",
      "metadata": {
        "id": "yTtX719o0b8v",
        "colab": {
          "base_uri": "https://localhost:8080/"
        },
        "outputId": "9cc9fdcf-0a33-4b5c-b58b-284575092cc3"
      },
      "execution_count": null,
      "outputs": [
        {
          "output_type": "stream",
          "name": "stdout",
          "text": [
            "Original Total: $85.00\n",
            "Discount: $8.50\n",
            "Final Price: $76.50\n"
          ]
        }
      ],
      "source": [
        "\n",
        "\n",
        "cart_total = 85\n",
        "\n",
        "\n",
        "if cart_total < 50:\n",
        "    discount_rate = 0.0\n",
        "elif 50 <= cart_total <= 99:\n",
        "    discount_rate = 0.10\n",
        "else:\n",
        "    discount_rate = 0.20\n",
        "\n",
        "\n",
        "discount = cart_total * discount_rate\n",
        "final_price = cart_total - discount\n",
        "\n",
        "\n",
        "print(f\"Original Total: ${cart_total:.2f}\")\n",
        "print(f\"Discount: ${discount:.2f}\")\n",
        "print(f\"Final Price: ${final_price:.2f}\")\n"
      ],
      "id": "yTtX719o0b8v"
    },
    {
      "cell_type": "markdown",
      "metadata": {
        "id": "uOUYYC870b8x"
      },
      "source": [
        "## Question 3 – Exam Grading\n",
        "Write a Python code that gives a letter grade for a score.\n",
        "If the score is between 90 and 100 the grade is A, if between 80 and 89 the grade is B, if between 70 and 79 the grade is C, if between 60 and 69 the grade is D, and if below 60 the grade is F.\n",
        "Print the grade and a short message.\n",
        "Run the program with score = 73."
      ],
      "id": "uOUYYC870b8x"
    },
    {
      "cell_type": "code",
      "metadata": {
        "id": "HDtf_YLG0b8y",
        "colab": {
          "base_uri": "https://localhost:8080/"
        },
        "outputId": "76cbadff-54e3-4d5e-ef45-f8509d2d9aa6"
      },
      "execution_count": null,
      "outputs": [
        {
          "output_type": "stream",
          "name": "stdout",
          "text": [
            "Score: 73\n",
            "Grade: C\n",
            "Message: Good effort, keep improving.\n"
          ]
        }
      ],
      "source": [
        "\n",
        "\n",
        "# score\n",
        "score = 73\n",
        "\n",
        "# Determine letter grade\n",
        "if 90 <= score <= 100:\n",
        "    grade = \"A\"\n",
        "    message = \"Excellent work!\"\n",
        "elif 80 <= score <= 89:\n",
        "    grade = \"B\"\n",
        "    message = \"Great job!\"\n",
        "elif 70 <= score <= 79:\n",
        "    grade = \"C\"\n",
        "    message = \"Good effort, keep improving.\"\n",
        "elif 60 <= score <= 69:\n",
        "    grade = \"D\"\n",
        "    message = \"You passed, but there's room for improvement.\"\n",
        "elif score < 60:\n",
        "    grade = \"F\"\n",
        "    message = \"Unfortunately, you did not pass. Keep trying!\"\n",
        "else:\n",
        "    grade = \"Invalid\"\n",
        "    message = \"Score must be between 0 and 100.\"\n",
        "\n",
        "\n",
        "print(f\"Score: {score}\")\n",
        "print(f\"Grade: {grade}\")\n",
        "print(f\"Message: {message}\")\n",
        "\n"
      ],
      "id": "HDtf_YLG0b8y"
    },
    {
      "cell_type": "markdown",
      "metadata": {
        "id": "ZCIKM6Xs0b80"
      },
      "source": [
        "## Question 4 – Parking Fee\n",
        "Write a Python code that calculates parking fees.\n",
        "If the car is parked for 0 to 2 hours the parking is free, if the car is parked for 3 to 5 hours the fee is 3 dollars per hour, and if the car is parked for more than 5 hours the fee is 3 dollars per hour for the first three hours after free and then 5 dollars per hour for the rest.\n",
        "Print the number of hours and the total fee.\n",
        "Run the program with hours = 6."
      ],
      "id": "ZCIKM6Xs0b80"
    },
    {
      "cell_type": "code",
      "metadata": {
        "id": "g3a_sPo50b81",
        "colab": {
          "base_uri": "https://localhost:8080/"
        },
        "outputId": "d53bf7e0-7135-4819-b790-19567554f2ec"
      },
      "execution_count": null,
      "outputs": [
        {
          "output_type": "stream",
          "name": "stdout",
          "text": [
            "Hours Parked: 6\n",
            "Total Fee: $14\n"
          ]
        }
      ],
      "source": [
        "\n",
        "hours = 6\n",
        "\n",
        "#  fee\n",
        "if 0 <= hours <= 2:\n",
        "    fee = 0\n",
        "elif 3 <= hours <= 5:\n",
        "    fee = (hours - 2) * 3   # only the hours after the free 2 hours\n",
        "elif hours > 5:\n",
        "    # First 3 hours after free = 3 * $3 = $9\n",
        "    fee = 9 + (hours - 5) * 5\n",
        "else:\n",
        "    fee = 0\n",
        "    print(\"Invalid input: hours cannot be negative.\")\n",
        "\n",
        "# Print result\n",
        "print(f\"Hours Parked: {hours}\")\n",
        "print(f\"Total Fee: ${fee}\")\n",
        "\n"
      ],
      "id": "g3a_sPo50b81"
    },
    {
      "cell_type": "markdown",
      "metadata": {
        "id": "XBf0-SPz0b83"
      },
      "source": [
        "## Question 5 – Cafeteria Menu\n",
        "Write a Python code that creates a list with three food items.\n",
        "Check if an order is in the list.\n",
        "If the item is in the list print a confirmation, and if the item is not in the list print a polite message.\n",
        "Run the program with menu = ['pizza','salad','sandwich'] and order = 'salad'."
      ],
      "id": "XBf0-SPz0b83"
    },
    {
      "cell_type": "code",
      "metadata": {
        "id": "y52UEMoX0b85",
        "colab": {
          "base_uri": "https://localhost:8080/"
        },
        "outputId": "4f555ff3-c002-4642-a89d-6c1513b8af04"
      },
      "execution_count": null,
      "outputs": [
        {
          "output_type": "stream",
          "name": "stdout",
          "text": [
            "Your order for 'salad' has been confirmed. Enjoy your meal!\n"
          ]
        }
      ],
      "source": [
        "# menu checker\n",
        "\n",
        "#  menu and order\n",
        "menu = ['pizza', 'salad', 'sandwich']\n",
        "order = 'salad'\n",
        "\n",
        "# Check if order\n",
        "if order in menu:\n",
        "    print(f\"Your order for '{order}' has been confirmed. Enjoy your meal!\")\n",
        "else:\n",
        "    print(f\"Sorry, we do not have '{order}' on the menu today. Please choose another item.\")\n"
      ],
      "id": "y52UEMoX0b85"
    },
    {
      "cell_type": "markdown",
      "metadata": {
        "id": "-60rL71F0b86"
      },
      "source": [
        "## Question 6 – Job Application Filter\n",
        "Write a Python code that checks if a person is eligible for a job.\n",
        "If the person is older than 22 and has more than 2 years of experience print Accepted.\n",
        "Otherwise print Not Accepted.\n",
        "Run the program with age = 23 and experience = 1."
      ],
      "id": "-60rL71F0b86"
    },
    {
      "cell_type": "code",
      "metadata": {
        "id": "-h964CqY0b88",
        "colab": {
          "base_uri": "https://localhost:8080/"
        },
        "outputId": "24c5900a-721d-44e8-c6f5-2cb3e3622b14"
      },
      "execution_count": null,
      "outputs": [
        {
          "output_type": "stream",
          "name": "stdout",
          "text": [
            "Not Accepted\n"
          ]
        }
      ],
      "source": [
        "# Job checker\n",
        "\n",
        "# age and experience\n",
        "age = 23\n",
        "experience = 1\n",
        "\n",
        "# Check eligibility\n",
        "if age > 22 and experience > 2:\n",
        "    print(\"Accepted\")\n",
        "else:\n",
        "    print(\"Not Accepted\")\n",
        "\n"
      ],
      "id": "-h964CqY0b88"
    },
    {
      "cell_type": "markdown",
      "metadata": {
        "id": "MOMMxnuE0b8-"
      },
      "source": [
        "## Question 7 – Clothing Advice\n",
        "Write a Python code that suggests clothing based on the temperature.\n",
        "If the temperature is below 10 print Coat and gloves, if the temperature is between 10 and 19 print Jacket, and if the temperature is 20 or more print T-shirt.\n",
        "Run the program with temperature = 15."
      ],
      "id": "MOMMxnuE0b8-"
    },
    {
      "cell_type": "code",
      "metadata": {
        "id": "V6RtrCOa0b8_",
        "colab": {
          "base_uri": "https://localhost:8080/"
        },
        "outputId": "c32de3f7-0193-4b22-f328-ac9748a300ef"
      },
      "execution_count": null,
      "outputs": [
        {
          "output_type": "stream",
          "name": "stdout",
          "text": [
            "Temperature: 15°C\n",
            "Suggested clothing: Jacket\n"
          ]
        }
      ],
      "source": [
        "\n",
        "# Set temperature\n",
        "temperature = 15  # in Celsius\n",
        "\n",
        "# Suggest\n",
        "if temperature < 10:\n",
        "    suggestion = \"Coat and gloves\"\n",
        "elif 10 <= temperature <= 19:\n",
        "    suggestion = \"Jacket\"\n",
        "else:  # temperature >= 20\n",
        "    suggestion = \"T-shirt\"\n",
        "\n",
        "# Print result\n",
        "print(f\"Temperature: {temperature}°C\")\n",
        "print(f\"Suggested clothing: {suggestion}\")\n"
      ],
      "id": "V6RtrCOa0b8_"
    },
    {
      "cell_type": "markdown",
      "metadata": {
        "id": "R-i9Jzpn0b9A"
      },
      "source": [
        "## Question 8 – Loan Eligibility\n",
        "Write a Python code that checks loan eligibility.\n",
        "If the salary is at least 3000 and the credit score is at least 650 print Loan Approved, otherwise print Loan Denied.\n",
        "Run the program with salary = 3500 and credit_score = 640."
      ],
      "id": "R-i9Jzpn0b9A"
    },
    {
      "cell_type": "code",
      "metadata": {
        "id": "2M0s0bC40b9B",
        "colab": {
          "base_uri": "https://localhost:8080/"
        },
        "outputId": "0fbf37db-c6eb-4910-ec17-282d61102969"
      },
      "execution_count": null,
      "outputs": [
        {
          "output_type": "stream",
          "name": "stdout",
          "text": [
            "Loan Denied\n"
          ]
        }
      ],
      "source": [
        "\n",
        "\n",
        "# salary and credit score\n",
        "salary = 3500\n",
        "credit_score = 640\n",
        "\n",
        "# Check eligibility\n",
        "if salary >= 3000 and credit_score >= 650:\n",
        "    print(\"Loan Approved\")\n",
        "else:\n",
        "    print(\"Loan Denied\")\n",
        "\n"
      ],
      "id": "2M0s0bC40b9B"
    },
    {
      "cell_type": "markdown",
      "metadata": {
        "id": "I0WmTyFv0b9D"
      },
      "source": [
        "## Question 9 – Password Strength\n",
        "Write a Python code that checks if a password is strong, medium, or weak based on its length.\n",
        "If the password has fewer than 6 characters it is Weak, if it has 6 to 10 characters it is Medium, and if it has more than 10 characters it is Strong.\n",
        "Print the strength.\n",
        "Run the program with password = 'hello123'."
      ],
      "id": "I0WmTyFv0b9D"
    },
    {
      "cell_type": "code",
      "metadata": {
        "id": "Jm8fu7ft0b9E",
        "colab": {
          "base_uri": "https://localhost:8080/"
        },
        "outputId": "9d09d00a-6770-4c33-df16-392198dcee3d"
      },
      "execution_count": null,
      "outputs": [
        {
          "output_type": "stream",
          "name": "stdout",
          "text": [
            "Password: hello123\n",
            "Strength: Medium\n"
          ]
        }
      ],
      "source": [
        "\n",
        "\n",
        "# Set password\n",
        "password = 'hello123'\n",
        "\n",
        "# Check strength based on length\n",
        "if len(password) < 6:\n",
        "    strength = \"Weak\"\n",
        "elif 6 <= len(password) <= 10:\n",
        "    strength = \"Medium\"\n",
        "else:  # length > 10\n",
        "    strength = \"Strong\"\n",
        "\n",
        "# Print result\n",
        "print(f\"Password: {password}\")\n",
        "print(f\"Strength: {strength}\")\n",
        "\n"
      ],
      "id": "Jm8fu7ft0b9E"
    },
    {
      "cell_type": "markdown",
      "metadata": {
        "id": "kgKSm4WB0b9F"
      },
      "source": [
        "## Question 10 – Guest List Checker\n",
        "Write a Python code that creates a list with three invited guests.\n",
        "Define a variable for a guest name.\n",
        "Check if the guest name is in the list.\n",
        "If the guest is in the list print Welcome, and if the guest is not in the list print Not on the list.\n",
        "Run the program with guest = 'Sara'."
      ],
      "id": "kgKSm4WB0b9F"
    },
    {
      "cell_type": "code",
      "metadata": {
        "id": "4pyiTbMT0b9G",
        "colab": {
          "base_uri": "https://localhost:8080/"
        },
        "outputId": "f06f8b3f-9055-4026-a922-17a0c18de477"
      },
      "execution_count": null,
      "outputs": [
        {
          "output_type": "stream",
          "name": "stdout",
          "text": [
            "Welcome\n"
          ]
        }
      ],
      "source": [
        "\n",
        "\n",
        "# Define guest list& name\n",
        "guest_list = ['John', 'Emma', 'Sara']\n",
        "guest = 'Sara'\n",
        "\n",
        "# Check if guest is in the list\n",
        "if guest in guest_list:\n",
        "    print(\"Welcome\")\n",
        "else:\n",
        "    print(\"Not on the list\")\n",
        "\n"
      ],
      "id": "4pyiTbMT0b9G"
    }
  ],
  "metadata": {
    "kernelspec": {
      "display_name": "Python 3",
      "language": "python",
      "name": "python3"
    },
    "language_info": {
      "name": "python",
      "version": "3.x"
    },
    "colab": {
      "provenance": [],
      "include_colab_link": true
    }
  },
  "nbformat": 4,
  "nbformat_minor": 5
}