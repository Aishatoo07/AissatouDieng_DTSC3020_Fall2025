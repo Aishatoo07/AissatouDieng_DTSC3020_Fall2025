{
  "nbformat": 4,
  "nbformat_minor": 0,
  "metadata": {
    "colab": {
      "provenance": [],
      "authorship_tag": "ABX9TyM8MnVBx+uRJ9sFE9s+ezXM",
      "include_colab_link": true
    },
    "kernelspec": {
      "name": "python3",
      "display_name": "Python 3"
    },
    "language_info": {
      "name": "python"
    }
  },
  "cells": [
    {
      "cell_type": "markdown",
      "metadata": {
        "id": "view-in-github",
        "colab_type": "text"
      },
      "source": [
        "<a href=\"https://colab.research.google.com/github/Aishatoo07/AissatouDieng_DTSC3020_Fall2025/blob/main/In_Class_excercise_01.ipynb\" target=\"_parent\"><img src=\"https://colab.research.google.com/assets/colab-badge.svg\" alt=\"Open In Colab\"/></a>"
      ]
    },
    {
      "cell_type": "code",
      "execution_count": 4,
      "metadata": {
        "colab": {
          "base_uri": "https://localhost:8080/"
        },
        "id": "iLvtrOsoPyXZ",
        "outputId": "644d5376-f8bd-4cb7-c77e-9f50da376e93"
      },
      "outputs": [
        {
          "output_type": "stream",
          "name": "stdout",
          "text": [
            "Welcome to python,  Aissatou\n"
          ]
        }
      ],
      "source": [
        "name= \"Aissatou\"\n",
        "print(\"Welcome to python,\",name)"
      ]
    }
  ]
}