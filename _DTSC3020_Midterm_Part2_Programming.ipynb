{
  "cells": [
    {
      "cell_type": "markdown",
      "metadata": {
        "id": "view-in-github",
        "colab_type": "text"
      },
      "source": [
        "<a href=\"https://colab.research.google.com/github/Aishatoo07/AissatouDieng_DTSC3020_Fall2025/blob/main/_DTSC3020_Midterm_Part2_Programming.ipynb\" target=\"_parent\"><img src=\"https://colab.research.google.com/assets/colab-badge.svg\" alt=\"Open In Colab\"/></a>"
      ]
    },
    {
      "cell_type": "markdown",
      "id": "8e58db4f",
      "metadata": {
        "id": "8e58db4f"
      },
      "source": [
        "# DTSC 3020 — Midterm Exam (Part 2: Programming)\n",
        "University of North Texas\n",
        "\n",
        "**Course:** Introduction to Computation with Python (DTSC 3020)  \n",
        "**Exam:** Midterm — Programming (Ch. 1–8 concepts)\n",
        "\n"
      ]
    },
    {
      "cell_type": "markdown",
      "id": "ed86aaec",
      "metadata": {
        "id": "ed86aaec"
      },
      "source": [
        "---\n",
        "### Instructions\n",
        "- Write clean, readable Python code for each question.\n",
        "- Use only standard Python; no external libraries.\n",
        "- Where required, write a function and return the result.\n",
        "- After each solution cell, there is a **Part 2 — Test Scenario**. Follow the prompt to run your code.\n",
        "\n",
        "---"
      ]
    },
    {
      "cell_type": "markdown",
      "id": "227c4435",
      "metadata": {
        "id": "227c4435"
      },
      "source": [
        "## Question 1 — Create Member ID\n",
        "Write a Python function `create_member_id(full_name)` that creates a Library Member ID from a person’s full name.\n",
        "\n",
        "**Rules**\n",
        "- Normalize the name: remove extra spaces, convert to lowercase, and split by spaces.\n",
        "- Use the last word as the last name (e.g., `\"John Ronald Reuel Tolkien\"` → last name `tolkien`).\n",
        "- Use the first letters of all earlier words as initials (e.g., `jrr` for the example above).\n",
        "- Construct the member ID in this exact format: `lastname_initials` (underscore between them; no spaces).\n",
        "\n",
        "**Examples**\n",
        "- `\"Sara Amini\"` → `amini_sa`\n",
        "- `\"Mary Jane Watson\"` → `watson_mj`\n",
        "- `\"LINA\"` (single word) → use the word for both parts: `lina_l`\n",
        "\n",
        "Part 2 — Test Scenario (run using your function)\n",
        "names = [\"Sara Amini\", \"Ali\", \"Mary Jane\", \"John Smith\", \"LINA\", \"madonna\", \"sara amini\"]\n",
        "\n",
        "\n",
        "\n"
      ]
    },
    {
      "cell_type": "code",
      "source": [
        "def create_member_id(full_name):\n",
        "    # Normalize\n",
        "    words = full_name.strip().lower().split()\n",
        "\n",
        "    # If the name only one word\n",
        "    if len(words) == 1:\n",
        "        last = words[0]\n",
        "        initials = words[0][0]\n",
        "    else:\n",
        "\n",
        "        last = words[-1]\n",
        "\n",
        "        initials = ''.join(word[0] for word in words[:-1])\n",
        "\n",
        "    # Construct ID\n",
        "    member_id = f\"{last}_{initials}\"\n",
        "    return member_id\n"
      ],
      "metadata": {
        "id": "ZZphMnP9rc_u"
      },
      "id": "ZZphMnP9rc_u",
      "execution_count": 21,
      "outputs": []
    },
    {
      "cell_type": "code",
      "execution_count": 22,
      "id": "584ae4f0",
      "metadata": {
        "id": "584ae4f0",
        "colab": {
          "base_uri": "https://localhost:8080/"
        },
        "outputId": "63a8d047-52a9-4161-98a0-afa6a7045d27"
      },
      "outputs": [
        {
          "output_type": "stream",
          "name": "stdout",
          "text": [
            "amini_s\n",
            "ali_a\n",
            "jane_m\n",
            "smith_j\n",
            "lina_l\n",
            "madonna_m\n",
            "amini_s\n"
          ]
        }
      ],
      "source": [
        "# Part 2 — Test Scenario (run using your function)\n",
        "names = [\"Sara Amini\", \"Ali\", \"Mary Jane\", \"John Smith\", \"LINA\", \"madonna\", \"sara amini\"]\n",
        "\n",
        "names = [\"Sara Amini\", \"Ali\", \"Mary Jane\", \"John Smith\", \"LINA\", \"madonna\", \"sara amini\"]\n",
        "\n",
        "for n in names:\n",
        "    print(create_member_id(n))\n",
        "\n"
      ]
    },
    {
      "cell_type": "markdown",
      "id": "c1727720",
      "metadata": {
        "id": "c1727720"
      },
      "source": [
        "## Question 2 — Movie Ticket Booth\n",
        "\n",
        "Write a Python program that simulates a movie ticket booth using this price list:\n",
        "\n",
        "```python\n",
        "prices = {\"adult\": 12.5, \"child\": 8, \"senior\": 9.5, \"student\": 10}\n",
        "```\n",
        "\n",
        "**Program Requirements**\n",
        "- Repeatedly ask the user to enter a ticket type or type `done` to finish.\n",
        "- Valid inputs: `adult`, `child`, `senior`, `student`, or `done`.\n",
        "- If the ticket type exists, add its price to a running total and print a confirmation message.\n",
        "- If it doesn’t exist, print `\"Invalid ticket type\"`.\n",
        "- When the user types `done`, stop and show:\n",
        "  - **Subtotal** (sum of valid ticket prices)\n",
        "  - **Tax** = 8% of subtotal\n",
        "  - **Final total** = subtotal + tax\n"
      ]
    },
    {
      "cell_type": "code",
      "execution_count": 1,
      "id": "4b859e17",
      "metadata": {
        "id": "4b859e17",
        "colab": {
          "base_uri": "https://localhost:8080/"
        },
        "outputId": "9da0efc2-e512-4f06-843d-325dc89a49a3"
      },
      "outputs": [
        {
          "name": "stdout",
          "output_type": "stream",
          "text": [
            "enter your ticket type here(adult,child,senior,student)or type 'done' to if you are done: adult\n",
            "Added adultticket.\n",
            "\n",
            "Subtotal: $12.50\n",
            "Tax(8%): $1.00\n",
            "Final totalo tickets: $13.50\n",
            "enter your ticket type here(adult,child,senior,student)or type 'done' to if you are done: senior\n",
            "Added seniorticket.\n",
            "\n",
            "Subtotal: $22.00\n",
            "Tax(8%): $1.76\n",
            "Final totalo tickets: $23.76\n",
            "enter your ticket type here(adult,child,senior,student)or type 'done' to if you are done: child\n",
            "Added childticket.\n",
            "\n",
            "Subtotal: $30.00\n",
            "Tax(8%): $2.40\n",
            "Final totalo tickets: $32.40\n",
            "enter your ticket type here(adult,child,senior,student)or type 'done' to if you are done: student\n",
            "Added studentticket.\n",
            "\n",
            "Subtotal: $40.00\n",
            "Tax(8%): $3.20\n",
            "Final totalo tickets: $43.20\n",
            "enter your ticket type here(adult,child,senior,student)or type 'done' to if you are done: done\n"
          ]
        }
      ],
      "source": [
        "\n",
        "\n",
        "# Write your answer here\n",
        "prices={\"adult\":12.5,\"child\":8,\"senior\":9.5,\"student\":10}\n",
        "total=0\n",
        "\n",
        "while True:\n",
        "  ticket_type=input(\"enter your ticket type here(adult,child,senior,student)or type 'done' to if you are done: \").lower()\n",
        "  if ticket_type =='done':\n",
        "    break\n",
        "  elif ticket_type in prices:\n",
        "    total+= prices[ticket_type]\n",
        "    print(f\"Added {ticket_type}ticket.\")\n",
        "  else:\n",
        "    print(\"invalid type of ticket\")\n",
        "\n",
        "  tax =total*0.08\n",
        "  final_tot= total + tax\n",
        "\n",
        "  print(f\"\\nSubtotal: ${total:.2f}\")\n",
        "  print(f\"Tax(8%): ${tax:.2f}\")\n",
        "  print(f\"Final totalo tickets: ${final_tot:.2f}\")"
      ]
    },
    {
      "cell_type": "markdown",
      "id": "17b39afe",
      "metadata": {
        "id": "17b39afe"
      },
      "source": [
        "**Part 2 — Example Scenario**\n",
        "When prompted, type the following (each on a new line), then press Enter after each entry:\n",
        "\n",
        "```\n",
        "adult\n",
        "child\n",
        "student\n",
        "done\n",
        "```\n",
        "Your program should complete and display the subtotal, tax, and final total based on these entries.\n"
      ]
    },
    {
      "cell_type": "markdown",
      "id": "28c710b6",
      "metadata": {
        "id": "28c710b6"
      },
      "source": [
        "## Question 3 — Student Grade Analyzer\n",
        "\n",
        "Write a Python function `analyze_grades(grades)` that takes a list of numbers (0–100) and returns three values:\n",
        "1. average grade\n",
        "2. highest grade\n",
        "3. lowest grade\n",
        "\n",
        "**Constraints**\n",
        "- Use a function and return statement(s).\n",
        "- Do not use external libraries.\n"
      ]
    },
    {
      "cell_type": "code",
      "execution_count": 1,
      "id": "efce3052",
      "metadata": {
        "id": "efce3052",
        "colab": {
          "base_uri": "https://localhost:8080/"
        },
        "outputId": "a8ffb475-207e-495b-9e62-647191017f33"
      },
      "outputs": [
        {
          "output_type": "stream",
          "name": "stdout",
          "text": [
            "(20.0, 30, 10)\n"
          ]
        }
      ],
      "source": [
        "# Write your answer here for Q3\n",
        "\n",
        "def analyze_grades(grades):\n",
        "  average=sum(grades)/len(grades)\n",
        "  highest_grade=max(grades)\n",
        "  Lowest_grade=min(grades)\n",
        "  return average ,highest_grade, Lowest_grade\n",
        "\n",
        "# Part 2 — Test Scenario\n",
        "test=[10,20,30]\n",
        "print(analyze_grades(test))"
      ]
    },
    {
      "cell_type": "markdown",
      "id": "d378f3c3",
      "metadata": {
        "id": "d378f3c3"
      },
      "source": [
        "## Question 4 — PIN Verification\n",
        "Write a Python program that simulates an ATM PIN verification system.\n",
        "\n",
        "**Requirements**\n",
        "- The correct PIN is `4321`.\n",
        "- The user has at most **3 attempts** to enter the correct PIN.\n",
        "- If the PIN is correct: print `Access granted.` and stop.\n",
        "- If all 3 attempts fail: print `Card blocked.`\n",
        "- After each wrong attempt, also print the counter in the form `Wrong (x/3)`.\n"
      ]
    },
    {
      "cell_type": "code",
      "execution_count": 1,
      "id": "5ea085a2",
      "metadata": {
        "id": "5ea085a2",
        "colab": {
          "base_uri": "https://localhost:8080/"
        },
        "outputId": "a73c5a93-a6d9-4f3c-875b-7d86a42e2641"
      },
      "outputs": [
        {
          "output_type": "stream",
          "name": "stdout",
          "text": [
            "Enter pin here:1111\n",
            "Wrong(1/3)\n",
            "Enter pin here:2222\n",
            "Wrong(2/3)\n",
            "Enter pin here:4321\n",
            "Access granted.\n"
          ]
        }
      ],
      "source": [
        "# Write your answer here\n",
        "\n",
        "correct_pin= \"4321\"\n",
        "attempts=0\n",
        "while attempts < 3:\n",
        "  pin_input = input(\"Enter pin here:\")\n",
        "  if pin_input == correct_pin:\n",
        "    print(\"Access granted.\")\n",
        "    break\n",
        "  else:\n",
        "      attempts +=1\n",
        "  if attempts<3:\n",
        "        print(f\"Wrong({attempts}/3)\")\n",
        "  else:\n",
        "        print(\"Card blocked.\")\n"
      ]
    },
    {
      "cell_type": "markdown",
      "id": "1c61e343",
      "metadata": {
        "id": "1c61e343"
      },
      "source": [
        "**Part 2 — Test Scenario**\n",
        "Run your program and, when prompted, enter these sequences to verify both behaviors:\n",
        "\n",
        "**Scenario A**\n",
        "```\n",
        "1111\n",
        "2222\n",
        "4321\n",
        "```\n",
        "\n",
        "\n"
      ]
    }
  ],
  "metadata": {
    "kernelspec": {
      "display_name": "Python 3",
      "language": "python",
      "name": "python3"
    },
    "language_info": {
      "name": "python",
      "version": "3.x"
    },
    "colab": {
      "provenance": [],
      "include_colab_link": true
    }
  },
  "nbformat": 4,
  "nbformat_minor": 5
}