{
  "cells": [
    {
      "cell_type": "markdown",
      "metadata": {
        "id": "view-in-github",
        "colab_type": "text"
      },
      "source": [
        "<a href=\"https://colab.research.google.com/github/Aishatoo07/AissatouDieng_DTSC3020_Fall2025/blob/main/Assignment5_Ch_10%2611.ipynb\" target=\"_parent\"><img src=\"https://colab.research.google.com/assets/colab-badge.svg\" alt=\"Open In Colab\"/></a>"
      ]
    },
    {
      "cell_type": "markdown",
      "id": "9903d230",
      "metadata": {
        "id": "9903d230"
      },
      "source": [
        "# Assignment5: CRM Cleanup @ **DalaShop**\n",
        "*Files (Ch.10), Exceptions (Ch.10), Unit Tests (Ch.11), and Regular Expressions*  \n",
        ".....\n",
        "\n",
        "**Total: 3 points**  (Two questions, 1.5 pts each)  \n",
        "\n",
        "> This assignment is scenario-based and aligned with Python Crash Course Ch.10 (files & exceptions), Ch.11 (unit testing with `unittest`), and Regular Expressions."
      ]
    },
    {
      "cell_type": "markdown",
      "id": "d6487401",
      "metadata": {
        "id": "d6487401"
      },
      "source": [
        "## Scenario\n",
        "You are a data intern at an online retailer called **DalaShop**.  \n",
        "Sales exported a **raw contacts** file from the CRM. It contains customer names, emails, and phone numbers, but the formatting is messy and some emails are invalid.  \n",
        "Your tasks:\n",
        "\n",
        "1. **Clean** the contacts (Files + Exceptions + Regex).  \n",
        "2. **Write unit tests** to make sure your helper functions work correctly and keep working in the future."
      ]
    },
    {
      "cell_type": "markdown",
      "id": "0bd1712f",
      "metadata": {
        "id": "0bd1712f"
      },
      "source": [
        "## Data file (given by the company): `contacts_raw.txt`\n",
        "Use this exact sample data (you may extend it for your own testing, but do **not** change it when submitting).  \n",
        "Run the next cell once to create the file beside your notebook."
      ]
    },
    {
      "cell_type": "code",
      "execution_count": 1,
      "id": "c395a1a8",
      "metadata": {
        "id": "c395a1a8",
        "colab": {
          "base_uri": "https://localhost:8080/"
        },
        "outputId": "c9ccb6b0-b82b-47e8-8b86-d9e6561b86c0"
      },
      "outputs": [
        {
          "output_type": "stream",
          "name": "stdout",
          "text": [
            "Wrote contacts_raw.txt with sample DalaShop data.\n"
          ]
        }
      ],
      "source": [
        "# Create the provided company dataset file\n",
        "with open(\"contacts_raw.txt\", \"w\", encoding=\"utf-8\") as f:\n",
        "    f.write('Alice Johnson <alice@example.com> , +1 (469) 555-1234\\nBob Roberts <bob[at]example.com> , 972-555-777\\nSara M. , sara@mail.co , 214 555 8888\\n\"Mehdi A.\" <mehdi.ay@example.org> , (469)555-9999\\nDelaram <delaram@example.io>, +1-972-777-2121\\nNima <NIMA@example.io> , 972.777.2121\\nduplicate <Alice@Example.com> , 469 555 1234')\n",
        "print(\"Wrote contacts_raw.txt with sample DalaShop data.\")"
      ]
    },
    {
      "cell_type": "markdown",
      "id": "1b535f73",
      "metadata": {
        "id": "1b535f73"
      },
      "source": [
        "## Q1 (1.5 pts) — CRM cleanup with Files, Exceptions, and Regex\n",
        "Implement `q1_crm_cleanup.py` to:\n",
        "\n",
        "1. **Read** `contacts_raw.txt` using `pathlib` and `with`. If the file is missing, **handle** it gracefully with `try/except FileNotFoundError` (print a friendly message; do not crash).\n",
        "2. **Validate emails** with a simple regex (`r\"[A-Za-z0-9._%+-]+@[A-Za-z0-9.-]+\\.[A-Za-z]{2,}\"`).  \n",
        "   - Trim whitespace with `strip()` before checking.  \n",
        "   - Use **full** matching (not partial).\n",
        "3. **Normalize phone numbers:** remove all non-digits (e.g., with `re.sub(r\"\\D\", \"\", raw)`).  \n",
        "   - If the result has **≥ 10 digits**, keep the **last 10 digits**.  \n",
        "   - Otherwise, return an **empty string** (`\"\"`).\n",
        "4. **Filter rows:** keep **only** rows with a valid email.\n",
        "5. **Deduplicate:** remove duplicates by **email** using **case-insensitive** comparison (e.g., `email.casefold()`). **Keep the first occurrence** and drop later duplicates.\n",
        "6. **Output CSV:** write to `contacts_clean.csv` with **columns exactly** `name,email,phone` (UTF-8).  \n",
        "7. **Preserve input order:** the order of rows in `contacts_clean.csv` must match the **first appearance** order from the input file. **Do not sort** the rows.\n",
        "\n",
        "**Grading rubric (1.5 pts):**\n",
        "- (0.4) File read/write via `pathlib` + graceful `FileNotFoundError` handling  \n",
        "- (0.5) Correct email regex validation + filtering  \n",
        "- (0.4) Phone normalization + case-insensitive de-dup (keep first)  \n",
        "- (0.2) Clean code, clear names, minimal docstrings/comments"
      ]
    },
    {
      "cell_type": "code",
      "source": [
        "\n",
        "from pathlib import Path\n",
        "import csv\n",
        "import re\n",
        "\n",
        "# Email validation regex (full match)\n",
        "EMAIL_RE = re.compile(r\"[A-Za-z0-9._%+-]+@[A-Za-z0-9.-]+\\.[A-Za-z]{2,}\")\n",
        "\n",
        "def normalize_phone(raw: str) -> str:\n",
        "    \"\"\"Remove non-digits; if ≥10 digits, keep last 10 digits, else return empty string.\"\"\"\n",
        "    digits = re.sub(r\"\\D\", \"\", raw or \"\")\n",
        "    if len(digits) >= 10:\n",
        "        return digits[-10:]\n",
        "    return \"\"\n",
        "\n",
        "def extract_email(text: str) -> str | None:\n",
        "    \"\"\"Try to extract an email-like token from a messy contact line.\"\"\"\n",
        "    if not text:\n",
        "        return None\n",
        "    # Prefer angle-bracket form <...>\n",
        "    m = re.search(r\"<([^>]+)>\", text)\n",
        "    if m:\n",
        "        return m.group(1).strip()\n",
        "    # Otherwise, split by comma/space and look for a token with '@'\n",
        "    for token in re.split(r\"[,\\s]+\", text.strip()):\n",
        "        if \"@\" in token:\n",
        "            return token.strip()\n",
        "    return None\n",
        "\n",
        "def extract_name(text: str) -> str:\n",
        "    \"\"\"Extract name before '<' or before first comma.\"\"\"\n",
        "    if not text:\n",
        "        return \"\"\n",
        "    if \"<\" in text:\n",
        "        return text.split(\"<\", 1)[0].strip().strip(\",\")\n",
        "    if \",\" in text:\n",
        "        return text.split(\",\", 1)[0].strip()\n",
        "    return text.strip()\n",
        "\n",
        "def extract_phone(text: str) -> str:\n",
        "    \"\"\"Extract last comma-separated field containing digits.\"\"\"\n",
        "    parts = [p.strip() for p in text.split(\",\")]\n",
        "    for part in reversed(parts):\n",
        "        if any(ch.isdigit() for ch in part):\n",
        "            return part\n",
        "    return \"\"\n",
        "\n",
        "def main() -> None:\n",
        "    src = Path(\"contacts_raw.txt\")\n",
        "\n",
        "    # (0.4) File read/write via pathlib + graceful FileNotFoundError handling\n",
        "    try:\n",
        "        raw_lines = src.read_text(encoding=\"utf-8\").splitlines()\n",
        "    except FileNotFoundError:\n",
        "        print(\"⚠️ contacts_raw.txt not found. Please create the dataset file and rerun.\")\n",
        "        return\n",
        "\n",
        "    cleaned_rows: list[tuple[str, str, str]] = []\n",
        "    seen_emails: set[str] = set()  # case-insensitive dedup\n",
        "\n",
        "    for line in raw_lines:\n",
        "        line = line.strip()\n",
        "        if not line:\n",
        "            continue\n",
        "\n",
        "        # Extract name\n",
        "        name = extract_name(line)\n",
        "\n",
        "        # Extract and validate email\n",
        "        candidate_email = extract_email(line)\n",
        "        if not candidate_email:\n",
        "            continue\n",
        "        email = candidate_email.strip()\n",
        "\n",
        "        # Full match validation (no partial)\n",
        "        if EMAIL_RE.fullmatch(email) is None:\n",
        "            continue\n",
        "\n",
        "        # Normalize phone\n",
        "        raw_phone = extract_phone(line)\n",
        "        phone = normalize_phone(raw_phone)\n",
        "\n",
        "        # Deduplicate by case-insensitive email\n",
        "        key = email.casefold()\n",
        "        if key in seen_emails:\n",
        "            continue\n",
        "        seen_emails.add(key)\n",
        "\n",
        "        # Preserve order\n",
        "        cleaned_rows.append((name, email, phone))\n",
        "\n",
        "    # Write output CSV (UTF-8)\n",
        "    out_path = Path(\"contacts_clean.csv\")\n",
        "    with out_path.open(\"w\", newline=\"\", encoding=\"utf-8\") as f:\n",
        "        w = csv.writer(f)\n",
        "        w.writerow([\"name\", \"email\", \"phone\"])\n",
        "        w.writerows(cleaned_rows)\n",
        "\n",
        "    print(f\"✅ Wrote {out_path} with {len(cleaned_rows)} cleaned contacts.\")\n",
        "\n",
        "if __name__ == \"__main__\":\n",
        "    main()\n"
      ],
      "metadata": {
        "id": "gO9xaHmKNlax",
        "colab": {
          "base_uri": "https://localhost:8080/"
        },
        "outputId": "ae603bee-59ce-444e-95b6-cde36a7ecb50"
      },
      "id": "gO9xaHmKNlax",
      "execution_count": 5,
      "outputs": [
        {
          "output_type": "stream",
          "name": "stdout",
          "text": [
            "✅ Wrote contacts_clean.csv with 5 cleaned contacts.\n"
          ]
        }
      ]
    },
    {
      "cell_type": "markdown",
      "id": "258c5b04",
      "metadata": {
        "id": "258c5b04"
      },
      "source": [
        "## Q2 (1.5 pts) — Unit testing with `unittest`\n",
        "Create tests in `test_crm_cleanup.py` that cover at least:\n",
        "\n",
        "1. **Email validation**: valid/invalid variations.  \n",
        "2. **Phone normalization**: parentheses, dashes, spaces, country code; too-short cases.  \n",
        "3. **Parsing**: from a small multi-line string (not from a file), assert the exact structured rows (name/email/phone).  \n",
        "4. **De-duplication**: demonstrate that a case-variant duplicate email is dropped (first occurrence kept).\n",
        "\n",
        "\n"
      ]
    },
    {
      "cell_type": "code",
      "source": [
        "%%writefile q1_crm_cleanup.py\n",
        "from pathlib import Path\n",
        "import csv, re\n",
        "\n",
        "EMAIL_RE = re.compile(r\"[A-Za-z0-9._%+-]+@[A-Za-z0-9.-]+\\.[A-Za-z]{2,}\")\n",
        "\n",
        "def normalize_phone(raw: str) -> str:\n",
        "    digits = re.sub(r\"\\D\", \"\", raw or \"\")\n",
        "    if len(digits) >= 10:\n",
        "        return digits[-10:]\n",
        "    return \"\"\n",
        "\n",
        "def extract_email(text: str) -> str | None:\n",
        "    if not text:\n",
        "        return None\n",
        "    m = re.search(r\"<([^>]+)>\", text)\n",
        "    if m:\n",
        "        return m.group(1).strip()\n",
        "    for token in re.split(r\"[,\\s]+\", text.strip()):\n",
        "        if \"@\" in token:\n",
        "            return token.strip()\n",
        "    return None\n",
        "\n",
        "def extract_name(text: str) -> str:\n",
        "    if not text:\n",
        "        return \"\"\n",
        "    if \"<\" in text:\n",
        "        return text.split(\"<\", 1)[0].strip().strip(\",\")\n",
        "    if \",\" in text:\n",
        "        return text.split(\",\", 1)[0].strip()\n",
        "    return text.strip()\n",
        "\n",
        "def extract_phone(text: str) -> str:\n",
        "    parts = [p.strip() for p in text.split(\",\")]\n",
        "    for part in reversed(parts):\n",
        "        if any(ch.isdigit() for ch in part):\n",
        "            return part\n",
        "    return \"\"\n",
        "\n",
        "def main() -> None:\n",
        "    src = Path(\"contacts_raw.txt\")\n",
        "    try:\n",
        "        raw_lines = src.read_text(encoding=\"utf-8\").splitlines()\n",
        "    except FileNotFoundError:\n",
        "        print(\"contacts_raw.txt not found. Please create it and rerun.\")\n",
        "        return\n",
        "\n",
        "    cleaned_rows = []\n",
        "    seen = set()\n",
        "    for line in raw_lines:\n",
        "        line = line.strip()\n",
        "        if not line:\n",
        "            continue\n",
        "        name = extract_name(line)\n",
        "        cand_email = extract_email(line)\n",
        "        if not cand_email:\n",
        "            continue\n",
        "        email = cand_email.strip()\n",
        "        if EMAIL_RE.fullmatch(email) is None:\n",
        "            continue\n",
        "        phone = normalize_phone(extract_phone(line))\n",
        "        key = email.casefold()\n",
        "        if key in seen:\n",
        "            continue\n",
        "        seen.add(key)\n",
        "        cleaned_rows.append((name, email, phone))\n",
        "\n",
        "    out_path = Path(\"contacts_clean.csv\")\n",
        "    with out_path.open(\"w\", newline=\"\", encoding=\"utf-8\") as f:\n",
        "        w = csv.writer(f)\n",
        "        w.writerow([\"name\", \"email\", \"phone\"])\n",
        "        w.writerows(cleaned_rows)\n",
        "\n",
        "    print(f\"Wrote {out_path} with {len(cleaned_rows)} cleaned contacts.\")\n",
        "\n",
        "if __name__ == \"__main__\":\n",
        "    main()\n"
      ],
      "metadata": {
        "colab": {
          "base_uri": "https://localhost:8080/"
        },
        "id": "9-ChbLK_v9sb",
        "outputId": "c9d0ef24-697e-4645-d50b-c418d9ad8cac"
      },
      "id": "9-ChbLK_v9sb",
      "execution_count": 7,
      "outputs": [
        {
          "output_type": "stream",
          "name": "stdout",
          "text": [
            "Writing q1_crm_cleanup.py\n"
          ]
        }
      ]
    },
    {
      "cell_type": "code",
      "source": [
        "%%writefile test_crm_cleanup.py\n",
        "import unittest\n",
        "from q1_crm_cleanup import (\n",
        "    EMAIL_RE,\n",
        "    normalize_phone,\n",
        "    extract_email,\n",
        "    extract_name,\n",
        "    extract_phone,\n",
        ")\n",
        "\n",
        "def parse_lines_pipeline(multiline: str):\n",
        "    cleaned_rows = []\n",
        "    seen = set()\n",
        "    for raw in multiline.splitlines():\n",
        "        line = raw.strip()\n",
        "        if not line:\n",
        "            continue\n",
        "        name = extract_name(line)\n",
        "        cand_email = extract_email(line)\n",
        "        if not cand_email:\n",
        "            continue\n",
        "        email = cand_email.strip()\n",
        "        if EMAIL_RE.fullmatch(email) is None:\n",
        "            continue\n",
        "        phone = normalize_phone(extract_phone(line))\n",
        "        key = email.casefold()\n",
        "        if key in seen:\n",
        "            continue\n",
        "        seen.add(key)\n",
        "        cleaned_rows.append((name, email, phone))\n",
        "    return cleaned_rows\n",
        "\n",
        "\n",
        "class TestCRM(unittest.TestCase):\n",
        "    def test_email_validation(self):\n",
        "        valid = [\"alice@example.com\", \"mehdi.ay@example.org\"]\n",
        "        invalid = [\"bad@\", \"a@b\", \"x.com\"]\n",
        "        for e in valid:\n",
        "            self.assertIsNotNone(EMAIL_RE.fullmatch(e))\n",
        "        for e in invalid:\n",
        "            self.assertIsNone(EMAIL_RE.fullmatch(e))\n",
        "\n",
        "    def test_phone_normalization(self):\n",
        "        self.assertEqual(normalize_phone(\"(469) 555-1234\"), \"4695551234\")\n",
        "        self.assertEqual(normalize_phone(\"+1-972-777-2121\"), \"9727772121\")\n",
        "        self.assertEqual(normalize_phone(\"972-555-777\"), \"\")\n",
        "\n",
        "    def test_parsing_and_dedup(self):\n",
        "        data = (\n",
        "            'Alice Johnson <alice@example.com> , +1 (469) 555-1234\\n'\n",
        "            'Duplicate <ALICE@EXAMPLE.COM> , 469 555 1111\\n'\n",
        "            'Sara M. , sara@mail.co , 214 555 8888\\n'\n",
        "        )\n",
        "        result = parse_lines_pipeline(data)\n",
        "        expected = [\n",
        "            (\"Alice Johnson\", \"alice@example.com\", \"4695551234\"),\n",
        "            (\"Sara M.\", \"sara@mail.co\", \"2145558888\"),\n",
        "        ]\n",
        "        self.assertEqual(result, expected)\n",
        "\n",
        "\n",
        "if __name__ == \"__main__\":\n",
        "    unittest.main(verbosity=2)\n"
      ],
      "metadata": {
        "colab": {
          "base_uri": "https://localhost:8080/"
        },
        "id": "RvfGkFu-v6E9",
        "outputId": "d8939b0e-c825-44a1-c3a5-8d96afb3ff9b"
      },
      "id": "RvfGkFu-v6E9",
      "execution_count": 8,
      "outputs": [
        {
          "output_type": "stream",
          "name": "stdout",
          "text": [
            "Writing test_crm_cleanup.py\n"
          ]
        }
      ]
    },
    {
      "cell_type": "code",
      "source": [],
      "metadata": {
        "id": "ywzo76A0v5dM"
      },
      "id": "ywzo76A0v5dM",
      "execution_count": null,
      "outputs": []
    },
    {
      "cell_type": "code",
      "source": [
        "!python -m unittest test_crm_cleanup.py\n"
      ],
      "metadata": {
        "id": "_M18cJw2NqZm",
        "colab": {
          "base_uri": "https://localhost:8080/"
        },
        "outputId": "ce4c64b7-e70f-4e6e-b792-46dd8b7d74b7"
      },
      "id": "_M18cJw2NqZm",
      "execution_count": 9,
      "outputs": [
        {
          "output_type": "stream",
          "name": "stdout",
          "text": [
            "...\n",
            "----------------------------------------------------------------------\n",
            "Ran 3 tests in 0.001s\n",
            "\n",
            "OK\n"
          ]
        }
      ]
    },
    {
      "cell_type": "markdown",
      "id": "f38af38b",
      "metadata": {
        "id": "f38af38b"
      },
      "source": [
        "## Grading rubric (total 3 pts)\n",
        "- **Q1 (1.5 pts)**  \n",
        "  - (0.4) File I/O with `pathlib` + graceful `FileNotFoundError` handling  \n",
        "  - (0.5) Email validation (regex + strip + full match) and filtering  \n",
        "  - (0.4) Phone normalization and **case-insensitive** de-duplication (keep first)  \n",
        "  - (0.2) Code clarity (names, minimal docstrings/comments)\n",
        "- **Q2 (1.5 pts)**  \n",
        "  - (0.6) Meaningful coverage for email/phone functions (valid & invalid)  \n",
        "  - (0.6) Parsing & de-dup tests that assert exact expected rows  \n",
        "  - (0.3) Standard `unittest` structure and readable test names\n"
      ]
    }
  ],
  "metadata": {
    "colab": {
      "provenance": [],
      "include_colab_link": true
    },
    "language_info": {
      "name": "python"
    },
    "kernelspec": {
      "name": "python3",
      "display_name": "Python 3"
    }
  },
  "nbformat": 4,
  "nbformat_minor": 5
}